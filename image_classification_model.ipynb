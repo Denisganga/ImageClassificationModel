{
  "cells": [
    {
      "cell_type": "markdown",
      "metadata": {
        "id": "view-in-github",
        "colab_type": "text"
      },
      "source": [
        "<a href=\"https://colab.research.google.com/github/Denisganga/ImageClassificationModel/blob/main/image_classification_model.ipynb\" target=\"_parent\"><img src=\"https://colab.research.google.com/assets/colab-badge.svg\" alt=\"Open In Colab\"/></a>"
      ]
    },
    {
      "cell_type": "code",
      "execution_count": 1,
      "metadata": {
        "id": "LnJVKCwaCpc6"
      },
      "outputs": [],
      "source": [
        "import matplotlib.pyplot as plt #for plotting\n",
        "import numpy as np # for transformation\n",
        "\n",
        "import torch #pytorch package\n",
        "import torchvision#load datasets\n",
        "import torchvision.transforms as transforms #transform data\n",
        "import torch.nn as nn #basic building block for neural networks\n",
        "import torch.nn.functional as F #import convolution functions like Relu\n",
        "import torch.optim as optim #optimizer"
      ]
    },
    {
      "cell_type": "code",
      "execution_count": 2,
      "metadata": {
        "colab": {
          "base_uri": "https://localhost:8080/"
        },
        "id": "Bl1V_TYqEFOZ",
        "outputId": "004d4aed-3fba-4747-99a3-7c43833833fa"
      },
      "outputs": [
        {
          "output_type": "stream",
          "name": "stdout",
          "text": [
            "Downloading https://www.cs.toronto.edu/~kriz/cifar-10-python.tar.gz to ./data/cifar-10-python.tar.gz\n"
          ]
        },
        {
          "output_type": "stream",
          "name": "stderr",
          "text": [
            "100%|██████████| 170498071/170498071 [00:03<00:00, 44166748.52it/s]\n"
          ]
        },
        {
          "output_type": "stream",
          "name": "stdout",
          "text": [
            "Extracting ./data/cifar-10-python.tar.gz to ./data\n",
            "Files already downloaded and verified\n"
          ]
        }
      ],
      "source": [
        "#python image library of range [0,1]\n",
        "#transform them to tensors of normalized range[-1,1]\n",
        "\n",
        "transform = transforms.Compose( # composing several transforms together\n",
        "    [transforms.ToTensor(), # to tensor object\n",
        "     transforms.Normalize((0.5, 0.5, 0.5), (0.5, 0.5, 0.5))]) # mean = 0.5, std = 0.5\n",
        "\n",
        "#set batch_size\n",
        "batch_size = 4\n",
        "\n",
        "#set number of workers\n",
        "num_workers= 2\n",
        "\n",
        "\n",
        "#load train data\n",
        "trainset = torchvision.datasets.CIFAR10(root='./data', train=True,\n",
        "                                        download=True, transform=transform)\n",
        "\n",
        "trainloader =torch.utils.data.DataLoader(trainset, batch_size=batch_size,\n",
        "                                         shuffle=True,num_workers=num_workers)\n",
        "\n",
        "#load test data\n",
        "testset = torchvision.datasets.CIFAR10(root='./data', train=False,\n",
        "                                       download=True,transform=transform)\n",
        "\n",
        "testloader = torch.utils.data.DataLoader(testset, batch_size=batch_size,\n",
        "                                         shuffle=False, num_workers=num_workers)\n",
        "\n",
        "#put 10 classes into a set\n",
        "classes =('plane','car','bird','cat',\n",
        "          'deer','dog','frog','horse','ship','truck')"
      ]
    },
    {
      "cell_type": "code",
      "execution_count": 3,
      "metadata": {
        "colab": {
          "base_uri": "https://localhost:8080/",
          "height": 229
        },
        "id": "z5aluQd6awVW",
        "outputId": "61e927e5-b91d-4261-be4f-676047bd89b7"
      },
      "outputs": [
        {
          "output_type": "display_data",
          "data": {
            "text/plain": [
              "<Figure size 640x480 with 1 Axes>"
            ],
            "image/png": "[encoded data removed]"
          },
          "metadata": {}
        },
        {
          "output_type": "stream",
          "name": "stdout",
          "text": [
            "Class labels for each image in the batch:\n",
            "car cat plane cat\n"
          ]
        }
      ],
      "source": [
        "import matplotlib.pyplot as plt\n",
        "import torchvision\n",
        "import numpy as np\n",
        "\n",
        "def imshow(img):\n",
        "    ''' Function to show image '''\n",
        "    img = img / 2 + 0.5  # Unnormalize\n",
        "    npimg = img.numpy()  # Convert to numpy objects\n",
        "    plt.imshow(np.transpose(npimg, (1, 2, 0)))\n",
        "    plt.show()\n",
        "\n",
        "# Get a batch of random training images with a for loop\n",
        "for images, labels in trainloader:\n",
        "    # Call the function on our images and display them\n",
        "    imshow(torchvision.utils.make_grid(images))\n",
        "\n",
        "    # Print the class labels for each image in the batch\n",
        "    print(\"Class labels for each image in the batch:\")\n",
        "    print(' '.join('%s' % classes[labels[j]] for j in range(len(labels))))\n",
        "\n",
        "    # Break the loop to display only one batch of images (remove this line if you want to see multiple batches)\n",
        "    break\n",
        "\n"
      ]
    },
    {
      "cell_type": "code",
      "execution_count": 5,
      "metadata": {
        "colab": {
          "base_uri": "https://localhost:8080/"
        },
        "id": "4TJw_SPrtsVJ",
        "outputId": "711efb86-d4ff-4c59-d5df-817550b271cf"
      },
      "outputs": [
        {
          "output_type": "stream",
          "name": "stdout",
          "text": [
            "Net(\n",
            "  (conv1): Conv2d(3, 6, kernel_size=(5, 5), stride=(1, 1))\n",
            "  (pool): MaxPool2d(kernel_size=2, stride=2, padding=0, dilation=1, ceil_mode=False)\n",
            "  (conv2): Conv2d(6, 16, kernel_size=(5, 5), stride=(1, 1))\n",
            "  (fc1): Linear(in_features=400, out_features=120, bias=True)\n",
            "  (fc2): Linear(in_features=120, out_features=84, bias=True)\n",
            "  (fc3): Linear(in_features=84, out_features=10, bias=True)\n",
            ")\n"
          ]
        }
      ],
      "source": [
        "#Now its time to build our network\n",
        "\n",
        "class Net(nn.Module):\n",
        "  ''' Models a simple Convolutional Neural Network'''\n",
        "  def __init__(self):\n",
        "    ''' initialize the network '''\n",
        "    super(Net, self).__init__()\n",
        "    #3 input image channel, 6 output channels,\n",
        "    #5*5 square convolution kernel\n",
        "    self.conv1=nn.Conv2d(3, 6, 5)\n",
        "\n",
        "    #Max pooling over a (2, 2) window\n",
        "    self.pool=nn.MaxPool2d(2, 2)\n",
        "    self.conv2=nn.Conv2d(6, 16, 5)\n",
        "    self.fc1=nn.Linear(16 * 5 * 5, 120 )#5*5 from image dimension\n",
        "    self.fc2=nn.Linear(120, 84)\n",
        "    self.fc3=nn.Linear(84,10)\n",
        "\n",
        "  def forward(self, x):\n",
        "    ''' the forward propagation algorithm '''\n",
        "    x= self.pool(F.relu(self.conv1(x)))\n",
        "    x= self.pool(F.relu(self.conv2(x)))\n",
        "    x= x.view(-1, 16 * 5* 5)\n",
        "    x= F.relu(self.fc1(x))\n",
        "    x= F.relu(self.fc2(x))\n",
        "    x= self.fc3(x)\n",
        "    return x\n",
        "\n",
        "net = Net()\n",
        "print(net)"
      ]
    },
    {
      "cell_type": "code",
      "source": [
        "#define a loss function optmizer\n",
        "criterion = nn.CrossEntropyLoss()\n",
        "optimizer = optim.SGD(net.parameters(), lr=0.001, momentum=0.9)"
      ],
      "metadata": {
        "id": "-fw5ipdxhiCi"
      },
      "execution_count": 6,
      "outputs": []
    },
    {
      "cell_type": "code",
      "source": [
        "#train the network\n",
        "start = torch.cuda.Event(enable_timing=True)\n",
        "end = torch.cuda.Event(enable_timing=True)\n",
        "\n",
        "start.record()\n",
        "\n",
        "for epoch in range(2):#loop over the dataset ,multiple times\n",
        "\n",
        "  running_loss =0.0\n",
        "  for i,data in enumerate(trainloader, 0):\n",
        "    #get the inputs; data is a list of [inputs,labels]\n",
        "    inputs, labels =data\n",
        "\n",
        "    #zero the parameter gradients\n",
        "    optimizer.zero_grad()\n",
        "\n",
        "    #forward+backword+optimize\n",
        "    outputs = net(inputs)\n",
        "    loss = criterion(outputs, labels)\n",
        "    loss.backward()\n",
        "    optimizer.step()\n",
        "\n",
        "    #print statistics\n",
        "    running_loss +=loss.item()\n",
        "    if i % 2000 ==1999:\n",
        "      print('[%d, %5d] loss: %.3f' %\n",
        "            (epoch +1, i+1, running_loss /2000))\n",
        "      running_loss = 0.0\n",
        "\n",
        "end.record()\n",
        "\n",
        "torch.cuda.synchronize()\n",
        "\n",
        "print('Finished Training')\n",
        "print(start.elapsed_time(end))"
      ],
      "metadata": {
        "colab": {
          "base_uri": "https://localhost:8080/"
        },
        "id": "DUM-F4bbKSM9",
        "outputId": "f2a8fc1b-5908-4086-8924-cfdfe7ee431a"
      },
      "execution_count": 7,
      "outputs": [
        {
          "output_type": "stream",
          "name": "stdout",
          "text": [
            "[1,  2000] loss: 2.216\n",
            "[1,  4000] loss: 1.950\n",
            "[1,  6000] loss: 1.726\n",
            "[1,  8000] loss: 1.583\n",
            "[1, 10000] loss: 1.549\n",
            "[1, 12000] loss: 1.475\n",
            "[2,  2000] loss: 1.400\n",
            "[2,  4000] loss: 1.394\n",
            "[2,  6000] loss: 1.345\n",
            "[2,  8000] loss: 1.356\n",
            "[2, 10000] loss: 1.316\n",
            "[2, 12000] loss: 1.284\n",
            "Finished Training\n",
            "115466.796875\n"
          ]
        }
      ]
    }
  ],
  "metadata": {
    "accelerator": "GPU",
    "colab": {
      "provenance": [],
      "authorship_tag": "ABX9TyPAIUNmQYc6dGDq+QfK20xg",
      "include_colab_link": true
    },
    "kernelspec": {
      "display_name": "Python 3",
      "name": "python3"
    },
    "language_info": {
      "name": "python"
    }
  },
  "nbformat": 4,
  "nbformat_minor": 0
}