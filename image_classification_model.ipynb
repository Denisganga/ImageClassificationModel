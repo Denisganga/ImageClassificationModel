{
  "cells": [
    {
      "cell_type": "markdown",
      "metadata": {
        "id": "view-in-github",
        "colab_type": "text"
      },
      "source": [
        "<a href=\"https://colab.research.google.com/github/Denisganga/ImageClassificationModel/blob/main/image_classification_model.ipynb\" target=\"_parent\"><img src=\"https://colab.research.google.com/assets/colab-badge.svg\" alt=\"Open In Colab\"/></a>"
      ]
    },
    {
      "cell_type": "code",
      "execution_count": null,
      "metadata": {
        "colab": {
          "background_save": true
        },
        "id": "LnJVKCwaCpc6"
      },
      "outputs": [],
      "source": [
        "import matplotlib.pyplot as plt #for plotting\n",
        "import numpy as np # for transformation\n",
        "\n",
        "import torch #pytorch package\n",
        "import torchvision#load datasets\n",
        "import torchvision.transforms as transforms #transform data\n",
        "import torch.nn as nn #basic building block for neural networks\n",
        "import torch.nn.functional as F #import convolution functions like Relu\n",
        "import torch.optim as optim #optimizer"
      ]
    },
    {
      "cell_type": "code",
      "execution_count": null,
      "metadata": {
        "colab": {
          "background_save": true,
          "base_uri": "https://localhost:8080/"
        },
        "id": "Bl1V_TYqEFOZ",
        "outputId": "e7370485-b098-4176-a4d6-51dd6227d5d0"
      },
      "outputs": [
        {
          "name": "stdout",
          "output_type": "stream",
          "text": [
            "Downloading https://www.cs.toronto.edu/~kriz/cifar-10-python.tar.gz to ./data/cifar-10-python.tar.gz\n"
          ]
        },
        {
          "name": "stderr",
          "output_type": "stream",
          "text": [
            "100%|██████████| 170498071/170498071 [00:20<00:00, 8459233.18it/s]\n"
          ]
        },
        {
          "name": "stdout",
          "output_type": "stream",
          "text": [
            "Extracting ./data/cifar-10-python.tar.gz to ./data\n",
            "Files already downloaded and verified\n"
          ]
        }
      ],
      "source": [
        "#python image library of range [0,1]\n",
        "#transform them to tensors of normalized range[-1,1]\n",
        "\n",
        "transform = transforms.Compose( # composing several transforms together\n",
        "    [transforms.ToTensor(), # to tensor object\n",
        "     transforms.Normalize((0.5, 0.5, 0.5), (0.5, 0.5, 0.5))]) # mean = 0.5, std = 0.5\n",
        "\n",
        "#set batch_size\n",
        "batch_size = 4\n",
        "\n",
        "#set number of workers\n",
        "num_workers= 2\n",
        "\n",
        "\n",
        "#load train data\n",
        "trainset = torchvision.datasets.CIFAR10(root='./data', train=True,\n",
        "                                        download=True, transform=transform)\n",
        "\n",
        "trainloader =torch.utils.data.DataLoader(trainset, batch_size=batch_size,\n",
        "                                         shuffle=True,num_workers=num_workers)\n",
        "\n",
        "#load test data\n",
        "testset = torchvision.datasets.CIFAR10(root='./data', train=False,\n",
        "                                       download=True,transform=transform)\n",
        "\n",
        "testloader = torch.utils.data.DataLoader(testset, batch_size=batch_size,\n",
        "                                         shuffle=False, num_workers=num_workers)\n",
        "\n",
        "#put 10 classes into a set\n",
        "classes =('plane','car','bird','cat',\n",
        "          'deer','dog','frog','horse','ship','truck')"
      ]
    },
    {
      "cell_type": "code",
      "execution_count": null,
      "metadata": {
        "colab": {
          "background_save": true,
          "base_uri": "https://localhost:8080/",
          "height": 229
        },
        "id": "z5aluQd6awVW",
        "outputId": "725f69ce-7e72-4bce-e8da-0d76b1e67cc0"
      },
      "outputs": [
        {
          "data": {
            "image/png": "[encoded data removed]",
            "text/plain": [
              "<Figure size 640x480 with 1 Axes>"
            ]
          },
          "metadata": {},
          "output_type": "display_data"
        },
        {
          "name": "stdout",
          "output_type": "stream",
          "text": [
            "Class labels for each image in the batch:\n",
            "frog plane plane frog\n"
          ]
        }
      ],
      "source": [
        "import matplotlib.pyplot as plt\n",
        "import torchvision\n",
        "import numpy as np\n",
        "\n",
        "def imshow(img):\n",
        "    ''' Function to show image '''\n",
        "    img = img / 2 + 0.5  # Unnormalize\n",
        "    npimg = img.numpy()  # Convert to numpy objects\n",
        "    plt.imshow(np.transpose(npimg, (1, 2, 0)))\n",
        "    plt.show()\n",
        "\n",
        "# Get a batch of random training images with a for loop\n",
        "for images, labels in trainloader:\n",
        "    # Call the function on our images and display them\n",
        "    imshow(torchvision.utils.make_grid(images))\n",
        "\n",
        "    # Print the class labels for each image in the batch\n",
        "    print(\"Class labels for each image in the batch:\")\n",
        "    print(' '.join('%s' % classes[labels[j]] for j in range(len(labels))))\n",
        "\n",
        "    # Break the loop to display only one batch of images (remove this line if you want to see multiple batches)\n",
        "    break\n",
        "\n"
      ]
    },
    {
      "cell_type": "code",
      "execution_count": null,
      "metadata": {
        "colab": {
          "background_save": true
        },
        "id": "4TJw_SPrtsVJ"
      },
      "outputs": [],
      "source": [
        "#Now its time to build our network\n",
        "\n",
        "class Net(nn.Module):\n",
        "  ''' Models a simple Convolutional Neural Network'''\n",
        "  def __init__(self):\n",
        "    ''' initialize the network '''\n",
        "    super(Net, self).__init__()\n",
        "    #3 input image channel, 6 output channels,\n",
        "    #5*5 square convolution kernel\n",
        "    self.conv1=nn.conv2d(3, 6, 5)\n",
        "\n",
        "    #Max pooling over a (2, 2) window\n",
        "    self.pool=nn.Maxpool2d(2, 2)\n",
        "    self.conv2=nn.conv2d(6, 16, 5)\n",
        "    self.fc1=nn.linear(16 * 5 * 5, 120 )#5*5 from image dimension\n",
        "    self.fc2=nn.linear(120, 84)\n",
        "    self.fc3=nn.linear(84,10)\n",
        "\n",
        "  def forward(self, x):\n",
        "    ''' the forward propagation algorithm '''\n",
        "    x= self.pool(F.relu(self.conv1(x)))\n",
        "    x= self.pool(F.relu(self.conv2(x)))\n",
        "    x= x.view(-1, 16 * 5* 5)\n",
        "    x= F.relu(self.fc1(x))\n",
        "    x= F.relu(self.fc2(x))\n",
        "    x= self.fc3(x)\n",
        "    return x"
      ]
    }
  ],
  "metadata": {
    "accelerator": "GPU",
    "colab": {
      "provenance": [],
      "authorship_tag": "ABX9TyM8QWLdJ5rOqOV/HrmBI1iJ",
      "include_colab_link": true
    },
    "kernelspec": {
      "display_name": "Python 3",
      "name": "python3"
    },
    "language_info": {
      "name": "python"
    }
  },
  "nbformat": 4,
  "nbformat_minor": 0
}